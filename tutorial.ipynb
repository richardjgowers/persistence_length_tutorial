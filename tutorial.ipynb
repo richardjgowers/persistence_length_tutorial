{
 "cells": [
  {
   "cell_type": "markdown",
   "metadata": {},
   "source": [
    "# Calculating the persistence length of polymers using MDAnalysis"
   ]
  },
  {
   "cell_type": "markdown",
   "metadata": {},
   "source": [
    "In analysing polymers, the persistence length is a measure of a chains stiffness.  The persistence length is the distance at which the direction of two points on a polymer chain becomes decorrelated.  High persistence lengths indicate that the polymer chain is rigid and doesn't change direction, low persistence lengths indicate that the polymer chain has little memory of its orientation.\n",
    "\n",
    "The bond autocorrelation function $C(n)$ measures the average cosine of the angle between bond vector $\\mathbf{a_i}$ and a bond vector $n$ bonds away. \n",
    "\n",
    "$$C(n) = \\langle \\cos\\theta_{i, i+n} \\rangle= \\langle \\mathbf{a_i} \\cdot \\mathbf{a_{i+n}} \\rangle$$\n",
    "\n",
    "This is then fitted to an exponential decay, where $l_B$ is the average bond length, and $l_P$ is the persistence length.\n",
    "\n",
    "\n",
    "$$C(n) \\approx \\exp\\left(-\\frac{n l_B}{l_P}\\right)$$\n",
    "\n",
    "To get started, we'll need to import `MDAnalysis` and the `PersistenceLength` tool.  This tutorial was made to work on version 0.18.0 onwards of MDAnalysis."
   ]
  },
  {
   "cell_type": "code",
   "execution_count": 1,
   "metadata": {},
   "outputs": [],
   "source": [
    "from __future__ import print_function\n",
    "import MDAnalysis as mda\n",
    "from MDAnalysis.analysis.polymer import PersistenceLength\n",
    "import matplotlib.pyplot as plt\n",
    "%matplotlib inline"
   ]
  },
  {
   "cell_type": "markdown",
   "metadata": {},
   "source": [
    "Next we'll load up a Universe.\n",
    "This example is working with a single frame of a polyamide system.\n",
    "In this system, each chain is a unique residue, this is defined within our topology file."
   ]
  },
  {
   "cell_type": "code",
   "execution_count": 2,
   "metadata": {},
   "outputs": [
    {
     "name": "stdout",
     "output_type": "stream",
     "text": [
      "We have a universe: <Universe with 18360 atoms>\n",
      "We have 24 chains\n",
      "Our atom types are: {'C', 'O', 'N', 'H'}\n"
     ]
    }
   ],
   "source": [
    "u = mda.Universe('plength.gro')\n",
    "print('We have a universe: {}'.format(u))\n",
    "print('We have {} chains'.format(len(u.residues)))\n",
    "print('Our atom types are: {}'.format(set(u.atoms.types)))"
   ]
  },
  {
   "cell_type": "markdown",
   "metadata": {},
   "source": [
    "We'll need to create an AtomGroup (an array of atoms) for each polymer chain.\n",
    "As our polymer chain is linear, we can select the backbone atoms based on the atom type."
   ]
  },
  {
   "cell_type": "code",
   "execution_count": 3,
   "metadata": {},
   "outputs": [
    {
     "data": {
      "text/plain": [
       "[<AtomGroup with 281 atoms>,\n",
       " <AtomGroup with 281 atoms>,\n",
       " <AtomGroup with 281 atoms>,\n",
       " <AtomGroup with 281 atoms>,\n",
       " <AtomGroup with 281 atoms>,\n",
       " <AtomGroup with 281 atoms>,\n",
       " <AtomGroup with 281 atoms>,\n",
       " <AtomGroup with 281 atoms>,\n",
       " <AtomGroup with 281 atoms>,\n",
       " <AtomGroup with 281 atoms>,\n",
       " <AtomGroup with 281 atoms>,\n",
       " <AtomGroup with 281 atoms>,\n",
       " <AtomGroup with 281 atoms>,\n",
       " <AtomGroup with 281 atoms>,\n",
       " <AtomGroup with 281 atoms>,\n",
       " <AtomGroup with 281 atoms>,\n",
       " <AtomGroup with 281 atoms>,\n",
       " <AtomGroup with 281 atoms>,\n",
       " <AtomGroup with 281 atoms>,\n",
       " <AtomGroup with 281 atoms>,\n",
       " <AtomGroup with 281 atoms>,\n",
       " <AtomGroup with 281 atoms>,\n",
       " <AtomGroup with 281 atoms>,\n",
       " <AtomGroup with 281 atoms>]"
      ]
     },
     "execution_count": 3,
     "metadata": {},
     "output_type": "execute_result"
    }
   ],
   "source": [
    "ags = [r.atoms.select_atoms('type C or type N') for r in u.residues]\n",
    "list(ags)"
   ]
  },
  {
   "cell_type": "markdown",
   "metadata": {},
   "source": [
    "It is important that the contents of each AtomGroup are in order.  Selections done using `select_atoms` will always be sorted.\n",
    "\n",
    "This can be checked by listing the AtomGroup."
   ]
  },
  {
   "cell_type": "code",
   "execution_count": 4,
   "metadata": {},
   "outputs": [
    {
     "data": {
      "text/plain": [
       "[<Atom 1: Ch1 of type C of resname PA, resid 1 and segid SYSTEM>,\n",
       " <Atom 4: Ch4 of type C of resname PA, resid 1 and segid SYSTEM>,\n",
       " <Atom 7: Ch7 of type C of resname PA, resid 1 and segid SYSTEM>,\n",
       " <Atom 10: Ch10 of type C of resname PA, resid 1 and segid SYSTEM>,\n",
       " <Atom 13: Ca13 of type C of resname PA, resid 1 and segid SYSTEM>,\n",
       " <Atom 15: N15 of type N of resname PA, resid 1 and segid SYSTEM>,\n",
       " <Atom 17: Ch17 of type C of resname PA, resid 1 and segid SYSTEM>,\n",
       " <Atom 20: Ch20 of type C of resname PA, resid 1 and segid SYSTEM>,\n",
       " <Atom 23: Ch23 of type C of resname PA, resid 1 and segid SYSTEM>,\n",
       " <Atom 26: Ch26 of type C of resname PA, resid 1 and segid SYSTEM>]"
      ]
     },
     "execution_count": 4,
     "metadata": {},
     "output_type": "execute_result"
    }
   ],
   "source": [
    "list(ags[0][:10])"
   ]
  },
  {
   "cell_type": "markdown",
   "metadata": {},
   "source": [
    "This list of AtomGroups is the required input for the `PersistenceLength` analysis class.\n",
    "\n",
    "After creating the instance, we call the `run` method on it to perform the calculation.  In this case, the Universe only has a single frame to analyse, however the tool would normally iterate over all available frames to gather better statistics."
   ]
  },
  {
   "cell_type": "code",
   "execution_count": 5,
   "metadata": {},
   "outputs": [
    {
     "data": {
      "text/plain": [
       "<MDAnalysis.analysis.polymer.PersistenceLength at 0x11023c588>"
      ]
     },
     "execution_count": 5,
     "metadata": {},
     "output_type": "execute_result"
    }
   ],
   "source": [
    "p = PersistenceLength(ags)\n",
    "p.run()"
   ]
  },
  {
   "cell_type": "markdown",
   "metadata": {},
   "source": [
    "This has created the `.results` attribute on the analysis class.\n",
    "\n",
    "Plotting this can let us see $C(n)$.  The function becomes noiser at high values (where the statistics are poorer), but is quite smooth for lower values.  This is because there are many ways to measure $C(1)$, but few ways to measure $C(100)$."
   ]
  },
  {
   "cell_type": "code",
   "execution_count": 6,
   "metadata": {},
   "outputs": [
    {
     "data": {
      "text/plain": [
       "[<matplotlib.lines.Line2D at 0x114301e80>]"
      ]
     },
     "execution_count": 6,
     "metadata": {},
     "output_type": "execute_result"
    },
    {
     "data": {
      "image/png": "[encoded data removed]",
      "text/plain": [
       "<Figure size 432x288 with 1 Axes>"
      ]
     },
     "metadata": {},
     "output_type": "display_data"
    }
   ],
   "source": [
    "plt.ylabel('C(n)')\n",
    "plt.xlabel('n')\n",
    "plt.plot(p.results)"
   ]
  },
  {
   "cell_type": "markdown",
   "metadata": {},
   "source": [
    "The tool can then perform the exponential decay fit for us, which populate the `.lp` attribute."
   ]
  },
  {
   "cell_type": "code",
   "execution_count": 7,
   "metadata": {},
   "outputs": [
    {
     "name": "stdout",
     "output_type": "stream",
     "text": [
      "The persistence length is 6.5044 A\n"
     ]
    }
   ],
   "source": [
    "p.perform_fit()\n",
    "print(\"The persistence length is {:.4f} A\".format(p.lp))"
   ]
  },
  {
   "cell_type": "markdown",
   "metadata": {},
   "source": [
    "Finally to check the validity of the fit, we can plot the fit against the results."
   ]
  },
  {
   "cell_type": "code",
   "execution_count": 8,
   "metadata": {},
   "outputs": [
    {
     "data": {
      "text/plain": [
       "<matplotlib.axes._subplots.AxesSubplot at 0x11430f1d0>"
      ]
     },
     "execution_count": 8,
     "metadata": {},
     "output_type": "execute_result"
    },
    {
     "data": {
      "image/png": "[encoded data removed]",
      "text/plain": [
       "<Figure size 432x288 with 1 Axes>"
      ]
     },
     "metadata": {},
     "output_type": "display_data"
    }
   ],
   "source": [
    "p.plot()"
   ]
  },
  {
   "cell_type": "code",
   "execution_count": null,
   "metadata": {},
   "outputs": [],
   "source": []
  }
 ],
 "metadata": {
  "kernelspec": {
   "display_name": "Python 3",
   "language": "python",
   "name": "python3"
  },
  "language_info": {
   "codemirror_mode": {
    "name": "ipython",
    "version": 3
   },
   "file_extension": ".py",
   "mimetype": "text/x-python",
   "name": "python",
   "nbconvert_exporter": "python",
   "pygments_lexer": "ipython3",
   "version": "3.6.5"
  }
 },
 "nbformat": 4,
 "nbformat_minor": 1
}
